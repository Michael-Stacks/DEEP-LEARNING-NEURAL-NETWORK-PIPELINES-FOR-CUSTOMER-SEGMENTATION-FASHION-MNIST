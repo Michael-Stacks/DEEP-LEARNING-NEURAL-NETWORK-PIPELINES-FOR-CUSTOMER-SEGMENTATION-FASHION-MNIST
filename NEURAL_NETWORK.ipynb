{
 "cells": [
  {
   "cell_type": "code",
   "execution_count": 1,
   "id": "dfb02bf5",
   "metadata": {},
   "outputs": [],
   "source": [
    "# Devoir 3 Entraînement d’un Perceptron MultiCouches (PMC) et d’un Réseau de Neurones Profond de type CNN"
   ]
  },
  {
   "cell_type": "markdown",
   "id": "c96f20d8",
   "metadata": {
    "id": "c96f20d8"
   },
   "source": [
    "2.1 Entraînement d’un PMC sur les données Customer"
   ]
  },
  {
   "cell_type": "markdown",
   "id": "ce2f4ace",
   "metadata": {
    "id": "ce2f4ace"
   },
   "source": [
    "2.1.1 Classification binaire (revenu > moyenne → classe 1, sinon 0)"
   ]
  },
  {
   "cell_type": "markdown",
   "id": "38703a1a",
   "metadata": {
    "id": "38703a1a"
   },
   "source": [
    "(a) Préparation des données et validation croisée (k=3)"
   ]
  },
  {
   "cell_type": "markdown",
   "id": "403ab84e",
   "metadata": {
    "id": "403ab84e"
   },
   "source": [
    "**But** : charger `Customer.csv`, imputer les valeurs manquantes, binariser `revenue`, et entraîner un MLPClassifier en validation croisée 3‑plis.\n"
   ]
  },
  {
   "cell_type": "code",
   "execution_count": null,
   "id": "fe056761",
   "metadata": {
    "id": "fe056761",
    "outputId": "a574b8fb-1e0e-45b2-f390-6dd6d897b268"
   },
   "outputs": [
    {
     "name": "stderr",
     "output_type": "stream",
     "text": [
      "C:\\Users\\michael\\AppData\\Local\\Temp\\ipykernel_24120\\2142427830.py:15: FutureWarning: A value is trying to be set on a copy of a DataFrame or Series through chained assignment using an inplace method.\n",
      "The behavior will change in pandas 3.0. This inplace method will never work because the intermediate object on which we are setting values always behaves as a copy.\n",
      "\n",
      "For example, when doing 'df[col].method(value, inplace=True)', try using 'df.method({col: value}, inplace=True)' or df[col] = df[col].method(value) instead, to perform the operation inplace on the original object.\n",
      "\n",
      "\n",
      "  train_set['revenue'].fillna(train_set['revenue'].median(), inplace=True)\n",
      "C:\\Users\\michael\\AppData\\Local\\Temp\\ipykernel_24120\\2142427830.py:16: FutureWarning: A value is trying to be set on a copy of a DataFrame or Series through chained assignment using an inplace method.\n",
      "The behavior will change in pandas 3.0. This inplace method will never work because the intermediate object on which we are setting values always behaves as a copy.\n",
      "\n",
      "For example, when doing 'df[col].method(value, inplace=True)', try using 'df.method({col: value}, inplace=True)' or df[col] = df[col].method(value) instead, to perform the operation inplace on the original object.\n",
      "\n",
      "\n",
      "  test_set['revenue'].fillna(train_set['revenue'].median(), inplace=True)\n",
      "C:\\Users\\michael\\anaconda3\\Lib\\site-packages\\sklearn\\neural_network\\_multilayer_perceptron.py:691: ConvergenceWarning: Stochastic Optimizer: Maximum iterations (200) reached and the optimization hasn't converged yet.\n",
      "  warnings.warn(\n",
      "C:\\Users\\michael\\anaconda3\\Lib\\site-packages\\sklearn\\neural_network\\_multilayer_perceptron.py:691: ConvergenceWarning: Stochastic Optimizer: Maximum iterations (200) reached and the optimization hasn't converged yet.\n",
      "  warnings.warn(\n",
      "C:\\Users\\michael\\anaconda3\\Lib\\site-packages\\sklearn\\neural_network\\_multilayer_perceptron.py:691: ConvergenceWarning: Stochastic Optimizer: Maximum iterations (200) reached and the optimization hasn't converged yet.\n",
      "  warnings.warn(\n"
     ]
    },
    {
     "name": "stdout",
     "output_type": "stream",
     "text": [
      "Accuracy CV (binaire) : 0.827 ± 0.004\n"
     ]
    },
    {
     "name": "stderr",
     "output_type": "stream",
     "text": [
      "C:\\Users\\michael\\anaconda3\\Lib\\site-packages\\sklearn\\neural_network\\_multilayer_perceptron.py:691: ConvergenceWarning: Stochastic Optimizer: Maximum iterations (200) reached and the optimization hasn't converged yet.\n",
      "  warnings.warn(\n",
      "C:\\Users\\michael\\anaconda3\\Lib\\site-packages\\sklearn\\neural_network\\_multilayer_perceptron.py:691: ConvergenceWarning: Stochastic Optimizer: Maximum iterations (200) reached and the optimization hasn't converged yet.\n",
      "  warnings.warn(\n"
     ]
    },
    {
     "name": "stdout",
     "output_type": "stream",
     "text": [
      "              precision    recall  f1-score   support\n",
      "\n",
      "           0       0.86      0.85      0.86      4865\n",
      "           1       0.77      0.79      0.78      3135\n",
      "\n",
      "    accuracy                           0.83      8000\n",
      "   macro avg       0.82      0.82      0.82      8000\n",
      "weighted avg       0.83      0.83      0.83      8000\n",
      "\n"
     ]
    },
    {
     "name": "stderr",
     "output_type": "stream",
     "text": [
      "C:\\Users\\michael\\anaconda3\\Lib\\site-packages\\sklearn\\neural_network\\_multilayer_perceptron.py:691: ConvergenceWarning: Stochastic Optimizer: Maximum iterations (200) reached and the optimization hasn't converged yet.\n",
      "  warnings.warn(\n"
     ]
    }
   ],
   "source": [
    "import pandas as pd\n",
    "from sklearn.model_selection import train_test_split, cross_val_score, cross_val_predict\n",
    "from sklearn.preprocessing import OneHotEncoder, StandardScaler\n",
    "from sklearn.impute import SimpleImputer\n",
    "from sklearn.compose import ColumnTransformer\n",
    "from sklearn.pipeline import Pipeline\n",
    "from sklearn.neural_network import MLPClassifier\n",
    "from sklearn.metrics import classification_report\n",
    "\n",
    "# 1. Chargement et split\n",
    "data = pd.read_csv('C:\\\\Users\\\\michael\\\\Downloads\\\\solution_simplifiee_tp2\\\\Datasets\\\\Customer.csv', na_values=['?', 'unknown'])\n",
    "train_set, test_set = train_test_split(data, test_size=0.2, random_state=42)\n",
    "\n",
    "# 2. Imputation revenue\n",
    "train_set['revenue'].fillna(train_set['revenue'].median(), inplace=True)\n",
    "test_set['revenue'].fillna(train_set['revenue'].median(), inplace=True)\n",
    "\n",
    "# 3. Binarisation : 1 si > moyenne du train\n",
    "mean_rev = train_set['revenue'].mean()\n",
    "train_set['revenue_bin'] = (train_set['revenue'] > mean_rev).astype(int)\n",
    "test_set ['revenue_bin'] = (test_set ['revenue'] > mean_rev).astype(int)\n",
    "\n",
    "# 4. Séparation X/y\n",
    "X_train = train_set.drop(['revenue','revenue_bin'], axis=1)\n",
    "y_train = train_set['revenue_bin']\n",
    "X_test  = test_set .drop(['revenue','revenue_bin'], axis=1)\n",
    "y_test  = test_set ['revenue_bin']\n",
    "\n",
    "# 5. Prétraitement\n",
    "numeric_feats = ['age','pages','first_item_prize','News_click','ReBuy']\n",
    "# ReBuy → int\n",
    "for df in (X_train, X_test):\n",
    "    df['ReBuy'] = df['ReBuy'].astype(int)\n",
    "categorical_feats = ['gender','country']\n",
    "\n",
    "preprocessor = ColumnTransformer([\n",
    "    ('num', Pipeline([('imp', SimpleImputer(strategy='median')),\n",
    "                      ('scale', StandardScaler())]), numeric_feats),\n",
    "    ('cat', OneHotEncoder(handle_unknown='ignore'), categorical_feats)\n",
    "])\n",
    "\n",
    "# 6. Pipeline MLP de base\n",
    "pipe_bin = Pipeline([\n",
    "    ('prep', preprocessor),\n",
    "    ('mlp', MLPClassifier(hidden_layer_sizes=(100,), activation='relu',\n",
    "                          solver='adam', max_iter=200, random_state=42))\n",
    "])\n",
    "\n",
    "# 7. Validation croisée k=3\n",
    "scores = cross_val_score(pipe_bin, X_train, y_train, cv=3, scoring='accuracy')\n",
    "print(f\"Accuracy CV (binaire) : {scores.mean():.3f} ± {scores.std():.3f}\")\n",
    "y_pred_cv = cross_val_predict(pipe_bin, X_train, y_train, cv=3)\n",
    "print(classification_report(y_train, y_pred_cv))\n"
   ]
  },
  {
   "cell_type": "markdown",
   "id": "e0e63542",
   "metadata": {},
   "source": [
    "(b) Précision, rappel et F1"
   ]
  },
  {
   "cell_type": "markdown",
   "id": "06c63993",
   "metadata": {
    "id": "704ef512"
   },
   "source": [
    "On extrait ces métriques du rapport `classification_report` obtenu ci‑dessus.\n"
   ]
  },
  {
   "cell_type": "markdown",
   "id": "eb36bdfa",
   "metadata": {},
   "source": [
    " precision    recall  f1-score   support\n",
    "\n",
    "           0       0.86      0.85      0.86      4865\n",
    "           1       0.77      0.79      0.78      3135\n",
    "\n",
    "    accuracy                           0.83      8000\n",
    "   macro avg       0.82      0.82      0.82      8000\n",
    "weighted avg       0.83      0.83      0.83      8000"
   ]
  },
  {
   "cell_type": "markdown",
   "id": "1c667689",
   "metadata": {},
   "source": [
    "(c) Courbe d’apprentissage"
   ]
  },
  {
   "cell_type": "markdown",
   "id": "08f66513",
   "metadata": {
    "id": "08f66513"
   },
   "source": [
    "Tracer accuracy train vs validation en fonction de la taille du train pour détecter sur‑ajustement.\n"
   ]
  },
  {
   "cell_type": "code",
   "execution_count": null,
   "id": "f3b31368",
   "metadata": {
    "id": "f3b31368",
    "outputId": "aa2527d8-f023-498b-9b04-88fa1f4679c1"
   },
   "outputs": [
    {
     "name": "stderr",
     "output_type": "stream",
     "text": [
      "C:\\Users\\michael\\anaconda3\\Lib\\site-packages\\sklearn\\neural_network\\_multilayer_perceptron.py:691: ConvergenceWarning: Stochastic Optimizer: Maximum iterations (200) reached and the optimization hasn't converged yet.\n",
      "  warnings.warn(\n",
      "C:\\Users\\michael\\anaconda3\\Lib\\site-packages\\sklearn\\neural_network\\_multilayer_perceptron.py:691: ConvergenceWarning: Stochastic Optimizer: Maximum iterations (200) reached and the optimization hasn't converged yet.\n",
      "  warnings.warn(\n",
      "C:\\Users\\michael\\anaconda3\\Lib\\site-packages\\sklearn\\neural_network\\_multilayer_perceptron.py:691: ConvergenceWarning: Stochastic Optimizer: Maximum iterations (200) reached and the optimization hasn't converged yet.\n",
      "  warnings.warn(\n",
      "C:\\Users\\michael\\anaconda3\\Lib\\site-packages\\sklearn\\neural_network\\_multilayer_perceptron.py:691: ConvergenceWarning: Stochastic Optimizer: Maximum iterations (200) reached and the optimization hasn't converged yet.\n",
      "  warnings.warn(\n",
      "C:\\Users\\michael\\anaconda3\\Lib\\site-packages\\sklearn\\neural_network\\_multilayer_perceptron.py:691: ConvergenceWarning: Stochastic Optimizer: Maximum iterations (200) reached and the optimization hasn't converged yet.\n",
      "  warnings.warn(\n",
      "C:\\Users\\michael\\anaconda3\\Lib\\site-packages\\sklearn\\neural_network\\_multilayer_perceptron.py:691: ConvergenceWarning: Stochastic Optimizer: Maximum iterations (200) reached and the optimization hasn't converged yet.\n",
      "  warnings.warn(\n",
      "C:\\Users\\michael\\anaconda3\\Lib\\site-packages\\sklearn\\neural_network\\_multilayer_perceptron.py:691: ConvergenceWarning: Stochastic Optimizer: Maximum iterations (200) reached and the optimization hasn't converged yet.\n",
      "  warnings.warn(\n",
      "C:\\Users\\michael\\anaconda3\\Lib\\site-packages\\sklearn\\neural_network\\_multilayer_perceptron.py:691: ConvergenceWarning: Stochastic Optimizer: Maximum iterations (200) reached and the optimization hasn't converged yet.\n",
      "  warnings.warn(\n",
      "C:\\Users\\michael\\anaconda3\\Lib\\site-packages\\sklearn\\neural_network\\_multilayer_perceptron.py:691: ConvergenceWarning: Stochastic Optimizer: Maximum iterations (200) reached and the optimization hasn't converged yet.\n",
      "  warnings.warn(\n",
      "C:\\Users\\michael\\anaconda3\\Lib\\site-packages\\sklearn\\neural_network\\_multilayer_perceptron.py:691: ConvergenceWarning: Stochastic Optimizer: Maximum iterations (200) reached and the optimization hasn't converged yet.\n",
      "  warnings.warn(\n",
      "C:\\Users\\michael\\anaconda3\\Lib\\site-packages\\sklearn\\neural_network\\_multilayer_perceptron.py:691: ConvergenceWarning: Stochastic Optimizer: Maximum iterations (200) reached and the optimization hasn't converged yet.\n",
      "  warnings.warn(\n",
      "C:\\Users\\michael\\anaconda3\\Lib\\site-packages\\sklearn\\neural_network\\_multilayer_perceptron.py:691: ConvergenceWarning: Stochastic Optimizer: Maximum iterations (200) reached and the optimization hasn't converged yet.\n",
      "  warnings.warn(\n",
      "C:\\Users\\michael\\anaconda3\\Lib\\site-packages\\sklearn\\neural_network\\_multilayer_perceptron.py:691: ConvergenceWarning: Stochastic Optimizer: Maximum iterations (200) reached and the optimization hasn't converged yet.\n",
      "  warnings.warn(\n",
      "C:\\Users\\michael\\anaconda3\\Lib\\site-packages\\sklearn\\neural_network\\_multilayer_perceptron.py:691: ConvergenceWarning: Stochastic Optimizer: Maximum iterations (200) reached and the optimization hasn't converged yet.\n",
      "  warnings.warn(\n",
      "C:\\Users\\michael\\anaconda3\\Lib\\site-packages\\sklearn\\neural_network\\_multilayer_perceptron.py:691: ConvergenceWarning: Stochastic Optimizer: Maximum iterations (200) reached and the optimization hasn't converged yet.\n",
      "  warnings.warn(\n"
     ]
    },
    {
     "data": {
      "image/png": "[encoded data removed]",
      "text/plain": [
       "<Figure size 640x480 with 1 Axes>"
      ]
     },
     "metadata": {},
     "output_type": "display_data"
    }
   ],
   "source": [
    "import numpy as np\n",
    "import matplotlib.pyplot as plt\n",
    "from sklearn.model_selection import learning_curve\n",
    "\n",
    "train_sizes, train_scores, val_scores = learning_curve(\n",
    "    pipe_bin, X_train, y_train, cv=3,\n",
    "    train_sizes=np.linspace(0.1,1.0,5), scoring='accuracy', random_state=42\n",
    ")\n",
    "\n",
    "plt.plot(train_sizes, train_scores.mean(axis=1), 'o-', label='Train')\n",
    "plt.plot(train_sizes, val_scores.mean(axis=1), 'o-', label='Validation')\n",
    "plt.xlabel(\"Taille de l'échantillon d'entraînement\")\n",
    "plt.ylabel(\"Accuracy\")\n",
    "plt.title(\"Courbe d'apprentissage (PMC binaire)\")\n",
    "plt.legend()\n",
    "plt.show()\n"
   ]
  },
  {
   "cell_type": "markdown",
   "id": "d4cb939e",
   "metadata": {},
   "source": [
    "(d) Optimisation des hyperparamètres"
   ]
  },
  {
   "cell_type": "markdown",
   "id": "0da36567",
   "metadata": {
    "id": "0da36567"
   },
   "source": [
    "Recherche aléatoire sur nombre de couches (1–5), neurones (10–100), activation, solver, learning_rate_init, max_iter.\n"
   ]
  },
  {
   "cell_type": "code",
   "execution_count": null,
   "id": "ce025dbe",
   "metadata": {
    "id": "ce025dbe",
    "outputId": "1e1d7fc6-0128-4373-b2ed-e839d71a6854"
   },
   "outputs": [
    {
     "name": "stderr",
     "output_type": "stream",
     "text": [
      "C:\\Users\\michael\\anaconda3\\Lib\\site-packages\\sklearn\\neural_network\\_multilayer_perceptron.py:691: ConvergenceWarning: Stochastic Optimizer: Maximum iterations (200) reached and the optimization hasn't converged yet.\n",
      "  warnings.warn(\n",
      "C:\\Users\\michael\\anaconda3\\Lib\\site-packages\\sklearn\\neural_network\\_multilayer_perceptron.py:691: ConvergenceWarning: Stochastic Optimizer: Maximum iterations (200) reached and the optimization hasn't converged yet.\n",
      "  warnings.warn(\n",
      "C:\\Users\\michael\\anaconda3\\Lib\\site-packages\\sklearn\\neural_network\\_multilayer_perceptron.py:691: ConvergenceWarning: Stochastic Optimizer: Maximum iterations (200) reached and the optimization hasn't converged yet.\n",
      "  warnings.warn(\n",
      "C:\\Users\\michael\\anaconda3\\Lib\\site-packages\\sklearn\\neural_network\\_multilayer_perceptron.py:691: ConvergenceWarning: Stochastic Optimizer: Maximum iterations (300) reached and the optimization hasn't converged yet.\n",
      "  warnings.warn(\n",
      "C:\\Users\\michael\\anaconda3\\Lib\\site-packages\\sklearn\\neural_network\\_multilayer_perceptron.py:691: ConvergenceWarning: Stochastic Optimizer: Maximum iterations (300) reached and the optimization hasn't converged yet.\n",
      "  warnings.warn(\n",
      "C:\\Users\\michael\\anaconda3\\Lib\\site-packages\\sklearn\\neural_network\\_multilayer_perceptron.py:691: ConvergenceWarning: Stochastic Optimizer: Maximum iterations (300) reached and the optimization hasn't converged yet.\n",
      "  warnings.warn(\n",
      "C:\\Users\\michael\\anaconda3\\Lib\\site-packages\\sklearn\\neural_network\\_multilayer_perceptron.py:691: ConvergenceWarning: Stochastic Optimizer: Maximum iterations (300) reached and the optimization hasn't converged yet.\n",
      "  warnings.warn(\n",
      "C:\\Users\\michael\\anaconda3\\Lib\\site-packages\\sklearn\\neural_network\\_multilayer_perceptron.py:691: ConvergenceWarning: Stochastic Optimizer: Maximum iterations (300) reached and the optimization hasn't converged yet.\n",
      "  warnings.warn(\n",
      "C:\\Users\\michael\\anaconda3\\Lib\\site-packages\\sklearn\\neural_network\\_multilayer_perceptron.py:691: ConvergenceWarning: Stochastic Optimizer: Maximum iterations (300) reached and the optimization hasn't converged yet.\n",
      "  warnings.warn(\n",
      "C:\\Users\\michael\\anaconda3\\Lib\\site-packages\\sklearn\\neural_network\\_multilayer_perceptron.py:691: ConvergenceWarning: Stochastic Optimizer: Maximum iterations (200) reached and the optimization hasn't converged yet.\n",
      "  warnings.warn(\n",
      "C:\\Users\\michael\\anaconda3\\Lib\\site-packages\\sklearn\\neural_network\\_multilayer_perceptron.py:691: ConvergenceWarning: Stochastic Optimizer: Maximum iterations (200) reached and the optimization hasn't converged yet.\n",
      "  warnings.warn(\n",
      "C:\\Users\\michael\\anaconda3\\Lib\\site-packages\\sklearn\\neural_network\\_multilayer_perceptron.py:691: ConvergenceWarning: Stochastic Optimizer: Maximum iterations (200) reached and the optimization hasn't converged yet.\n",
      "  warnings.warn(\n",
      "C:\\Users\\michael\\anaconda3\\Lib\\site-packages\\sklearn\\neural_network\\_multilayer_perceptron.py:691: ConvergenceWarning: Stochastic Optimizer: Maximum iterations (200) reached and the optimization hasn't converged yet.\n",
      "  warnings.warn(\n",
      "C:\\Users\\michael\\anaconda3\\Lib\\site-packages\\sklearn\\neural_network\\_multilayer_perceptron.py:691: ConvergenceWarning: Stochastic Optimizer: Maximum iterations (200) reached and the optimization hasn't converged yet.\n",
      "  warnings.warn(\n",
      "C:\\Users\\michael\\anaconda3\\Lib\\site-packages\\sklearn\\neural_network\\_multilayer_perceptron.py:691: ConvergenceWarning: Stochastic Optimizer: Maximum iterations (200) reached and the optimization hasn't converged yet.\n",
      "  warnings.warn(\n",
      "C:\\Users\\michael\\anaconda3\\Lib\\site-packages\\sklearn\\neural_network\\_multilayer_perceptron.py:691: ConvergenceWarning: Stochastic Optimizer: Maximum iterations (200) reached and the optimization hasn't converged yet.\n",
      "  warnings.warn(\n",
      "C:\\Users\\michael\\anaconda3\\Lib\\site-packages\\sklearn\\neural_network\\_multilayer_perceptron.py:691: ConvergenceWarning: Stochastic Optimizer: Maximum iterations (200) reached and the optimization hasn't converged yet.\n",
      "  warnings.warn(\n",
      "C:\\Users\\michael\\anaconda3\\Lib\\site-packages\\sklearn\\neural_network\\_multilayer_perceptron.py:691: ConvergenceWarning: Stochastic Optimizer: Maximum iterations (200) reached and the optimization hasn't converged yet.\n",
      "  warnings.warn(\n",
      "C:\\Users\\michael\\anaconda3\\Lib\\site-packages\\sklearn\\neural_network\\_multilayer_perceptron.py:691: ConvergenceWarning: Stochastic Optimizer: Maximum iterations (200) reached and the optimization hasn't converged yet.\n",
      "  warnings.warn(\n"
     ]
    },
    {
     "name": "stdout",
     "output_type": "stream",
     "text": [
      "Meilleurs params : {'mlp__solver': 'sgd', 'mlp__max_iter': 200, 'mlp__learning_rate_init': 0.01, 'mlp__hidden_layer_sizes': (50, 50), 'mlp__activation': 'tanh'}\n",
      "Accuracy CV meilleur : 0.8517506673256241\n"
     ]
    },
    {
     "name": "stderr",
     "output_type": "stream",
     "text": [
      "C:\\Users\\michael\\anaconda3\\Lib\\site-packages\\sklearn\\neural_network\\_multilayer_perceptron.py:691: ConvergenceWarning: Stochastic Optimizer: Maximum iterations (200) reached and the optimization hasn't converged yet.\n",
      "  warnings.warn(\n"
     ]
    }
   ],
   "source": [
    "from sklearn.model_selection import RandomizedSearchCV\n",
    "\n",
    "param_dist = {\n",
    "    'mlp__hidden_layer_sizes': [(n,)*l for l in [1,2,3] for n in [50,100]],\n",
    "    'mlp__activation': ['relu','tanh'],\n",
    "    'mlp__solver': ['adam','sgd'],\n",
    "    'mlp__learning_rate_init': [1e-2,1e-3,1e-4],\n",
    "    'mlp__max_iter': [200,300]\n",
    "}\n",
    "rand_search_bin = RandomizedSearchCV(pipe_bin, param_dist,\n",
    "                                     n_iter=8, cv=3, scoring='accuracy',\n",
    "                                     random_state=42)\n",
    "rand_search_bin.fit(X_train, y_train)\n",
    "print(\"Meilleurs params :\", rand_search_bin.best_params_)\n",
    "print(\"Accuracy CV meilleur :\", rand_search_bin.best_score_)\n"
   ]
  },
  {
   "cell_type": "markdown",
   "id": "f019111d",
   "metadata": {
    "id": "f019111d"
   },
   "source": [
    "(e) Évaluation sur le jeu de test"
   ]
  },
  {
   "cell_type": "code",
   "execution_count": null,
   "id": "d1fe9025",
   "metadata": {
    "id": "d1fe9025",
    "outputId": "9e56b563-61fa-433a-f00d-e47a16dac16d"
   },
   "outputs": [
    {
     "name": "stdout",
     "output_type": "stream",
     "text": [
      "              precision    recall  f1-score   support\n",
      "\n",
      "           0       0.91      0.86      0.89      1242\n",
      "           1       0.80      0.86      0.83       758\n",
      "\n",
      "    accuracy                           0.86      2000\n",
      "   macro avg       0.85      0.86      0.86      2000\n",
      "weighted avg       0.87      0.86      0.86      2000\n",
      "\n"
     ]
    }
   ],
   "source": [
    "best_bin = rand_search_bin.best_estimator_\n",
    "y_pred_test = best_bin.predict(X_test)\n",
    "print(classification_report(y_test, y_pred_test))\n"
   ]
  },
  {
   "cell_type": "markdown",
   "id": "5b9b7678",
   "metadata": {
    "id": "5b9b7678"
   },
   "source": [
    "(f) Comparaison avec le devoir #2"
   ]
  },
  {
   "cell_type": "markdown",
   "id": "0ed483eb",
   "metadata": {
    "id": "0ed483eb"
   },
   "source": [
    "Le PMCBinaire optimisé obtient ~84% d’accuracy en test (F1 ≈0.87 classe 0, ≈0.79 classe 1),\n",
    "l’arbre de décision du devoir #2 atteignait ~83% en binaire. L'amélioration est modeste mais\n",
    "significative.\n"
   ]
  },
  {
   "cell_type": "markdown",
   "id": "8b2e2521",
   "metadata": {
    "id": "8b2e2521"
   },
   "source": [
    "2.1.2 Classification multi‑classes (bas/moyen/élevé) ​"
   ]
  },
  {
   "cell_type": "markdown",
   "id": "7ac8ed27",
   "metadata": {
    "id": "7ac8ed27"
   },
   "source": [
    "Préparation (discrétisation selon Q1/Q3)"
   ]
  },
  {
   "cell_type": "code",
   "execution_count": null,
   "id": "e60518cd",
   "metadata": {
    "id": "e60518cd"
   },
   "outputs": [],
   "source": [
    "# On repart de train_set/test_set déjà chargés et imputés\n",
    "Q1, Q3 = train_set['revenue'].quantile([0.25,0.75])\n",
    "def cat_rev(v):\n",
    "    return 'bas'   if v<=Q1 else ('eleve' if v>Q3 else 'moyen')\n",
    "for df in (train_set, test_set):\n",
    "    df['revenue_cat'] = df['revenue'].apply(cat_rev)\n",
    "\n",
    "X_train_m = train_set.drop(['revenue','revenue_cat'], axis=1)\n",
    "y_train_m = train_set['revenue_cat']\n",
    "X_test_m  = test_set .drop(['revenue','revenue_cat'], axis=1)\n",
    "y_test_m  = test_set ['revenue_cat']\n",
    "# Ajuster type de ReBuy\n",
    "for df in (X_train_m, X_test_m):\n",
    "    df['ReBuy']=df['ReBuy'].astype(int)\n"
   ]
  },
  {
   "cell_type": "markdown",
   "id": "684a2ac3",
   "metadata": {
    "id": "684a2ac3"
   },
   "source": [
    "(a) VC k=3"
   ]
  },
  {
   "cell_type": "code",
   "execution_count": null,
   "id": "41909c62",
   "metadata": {
    "id": "41909c62",
    "outputId": "44b4079e-9b36-4651-83d6-716b0a40910a"
   },
   "outputs": [
    {
     "name": "stderr",
     "output_type": "stream",
     "text": [
      "C:\\Users\\michael\\anaconda3\\Lib\\site-packages\\sklearn\\neural_network\\_multilayer_perceptron.py:691: ConvergenceWarning: Stochastic Optimizer: Maximum iterations (200) reached and the optimization hasn't converged yet.\n",
      "  warnings.warn(\n",
      "C:\\Users\\michael\\anaconda3\\Lib\\site-packages\\sklearn\\neural_network\\_multilayer_perceptron.py:691: ConvergenceWarning: Stochastic Optimizer: Maximum iterations (200) reached and the optimization hasn't converged yet.\n",
      "  warnings.warn(\n",
      "C:\\Users\\michael\\anaconda3\\Lib\\site-packages\\sklearn\\neural_network\\_multilayer_perceptron.py:691: ConvergenceWarning: Stochastic Optimizer: Maximum iterations (200) reached and the optimization hasn't converged yet.\n",
      "  warnings.warn(\n"
     ]
    },
    {
     "name": "stdout",
     "output_type": "stream",
     "text": [
      "Accuracy CV (multi) : 0.726 ± 0.013\n"
     ]
    },
    {
     "name": "stderr",
     "output_type": "stream",
     "text": [
      "C:\\Users\\michael\\anaconda3\\Lib\\site-packages\\sklearn\\neural_network\\_multilayer_perceptron.py:691: ConvergenceWarning: Stochastic Optimizer: Maximum iterations (200) reached and the optimization hasn't converged yet.\n",
      "  warnings.warn(\n",
      "C:\\Users\\michael\\anaconda3\\Lib\\site-packages\\sklearn\\neural_network\\_multilayer_perceptron.py:691: ConvergenceWarning: Stochastic Optimizer: Maximum iterations (200) reached and the optimization hasn't converged yet.\n",
      "  warnings.warn(\n"
     ]
    },
    {
     "name": "stdout",
     "output_type": "stream",
     "text": [
      "              precision    recall  f1-score   support\n",
      "\n",
      "         bas       0.75      0.71      0.73      2060\n",
      "       eleve       0.71      0.74      0.72      1988\n",
      "       moyen       0.73      0.73      0.73      3952\n",
      "\n",
      "    accuracy                           0.73      8000\n",
      "   macro avg       0.73      0.73      0.73      8000\n",
      "weighted avg       0.73      0.73      0.73      8000\n",
      "\n"
     ]
    },
    {
     "name": "stderr",
     "output_type": "stream",
     "text": [
      "C:\\Users\\michael\\anaconda3\\Lib\\site-packages\\sklearn\\neural_network\\_multilayer_perceptron.py:691: ConvergenceWarning: Stochastic Optimizer: Maximum iterations (200) reached and the optimization hasn't converged yet.\n",
      "  warnings.warn(\n"
     ]
    }
   ],
   "source": [
    "pipe_multi = Pipeline([('prep', preprocessor),\n",
    "                       ('mlp', MLPClassifier(hidden_layer_sizes=(100,),\n",
    "                                             activation='relu', solver='adam',\n",
    "                                             max_iter=200, random_state=42))])\n",
    "scores = cross_val_score(pipe_multi, X_train_m, y_train_m, cv=3, scoring='accuracy')\n",
    "print(f\"Accuracy CV (multi) : {scores.mean():.3f} ± {scores.std():.3f}\")\n",
    "print(classification_report(\n",
    "    y_train_m,\n",
    "    cross_val_predict(pipe_multi, X_train_m, y_train_m, cv=3)\n",
    "))\n"
   ]
  },
  {
   "cell_type": "markdown",
   "id": "31531a44",
   "metadata": {
    "id": "31531a44"
   },
   "source": [
    "(b) Métriques precision, recall, F1"
   ]
  },
  {
   "cell_type": "markdown",
   "id": "4b1a94a1",
   "metadata": {
    "id": "726932a4"
   },
   "source": [
    "Extrait du rapport ci‑dessus : F1=0.73 selon la classe."
   ]
  },
  {
   "cell_type": "markdown",
   "id": "da54ef5b",
   "metadata": {
    "id": "da54ef5b"
   },
   "source": [
    "(c) Courbe d’apprentissage"
   ]
  },
  {
   "cell_type": "code",
   "execution_count": null,
   "id": "d36903e0",
   "metadata": {
    "id": "d36903e0",
    "outputId": "f0a7ed50-23dc-4323-ea05-01fa4e146c1e"
   },
   "outputs": [
    {
     "name": "stderr",
     "output_type": "stream",
     "text": [
      "C:\\Users\\michael\\anaconda3\\Lib\\site-packages\\sklearn\\neural_network\\_multilayer_perceptron.py:691: ConvergenceWarning: Stochastic Optimizer: Maximum iterations (200) reached and the optimization hasn't converged yet.\n",
      "  warnings.warn(\n",
      "C:\\Users\\michael\\anaconda3\\Lib\\site-packages\\sklearn\\neural_network\\_multilayer_perceptron.py:691: ConvergenceWarning: Stochastic Optimizer: Maximum iterations (200) reached and the optimization hasn't converged yet.\n",
      "  warnings.warn(\n",
      "C:\\Users\\michael\\anaconda3\\Lib\\site-packages\\sklearn\\neural_network\\_multilayer_perceptron.py:691: ConvergenceWarning: Stochastic Optimizer: Maximum iterations (200) reached and the optimization hasn't converged yet.\n",
      "  warnings.warn(\n",
      "C:\\Users\\michael\\anaconda3\\Lib\\site-packages\\sklearn\\neural_network\\_multilayer_perceptron.py:691: ConvergenceWarning: Stochastic Optimizer: Maximum iterations (200) reached and the optimization hasn't converged yet.\n",
      "  warnings.warn(\n",
      "C:\\Users\\michael\\anaconda3\\Lib\\site-packages\\sklearn\\neural_network\\_multilayer_perceptron.py:691: ConvergenceWarning: Stochastic Optimizer: Maximum iterations (200) reached and the optimization hasn't converged yet.\n",
      "  warnings.warn(\n",
      "C:\\Users\\michael\\anaconda3\\Lib\\site-packages\\sklearn\\neural_network\\_multilayer_perceptron.py:691: ConvergenceWarning: Stochastic Optimizer: Maximum iterations (200) reached and the optimization hasn't converged yet.\n",
      "  warnings.warn(\n",
      "C:\\Users\\michael\\anaconda3\\Lib\\site-packages\\sklearn\\neural_network\\_multilayer_perceptron.py:691: ConvergenceWarning: Stochastic Optimizer: Maximum iterations (200) reached and the optimization hasn't converged yet.\n",
      "  warnings.warn(\n",
      "C:\\Users\\michael\\anaconda3\\Lib\\site-packages\\sklearn\\neural_network\\_multilayer_perceptron.py:691: ConvergenceWarning: Stochastic Optimizer: Maximum iterations (200) reached and the optimization hasn't converged yet.\n",
      "  warnings.warn(\n",
      "C:\\Users\\michael\\anaconda3\\Lib\\site-packages\\sklearn\\neural_network\\_multilayer_perceptron.py:691: ConvergenceWarning: Stochastic Optimizer: Maximum iterations (200) reached and the optimization hasn't converged yet.\n",
      "  warnings.warn(\n",
      "C:\\Users\\michael\\anaconda3\\Lib\\site-packages\\sklearn\\neural_network\\_multilayer_perceptron.py:691: ConvergenceWarning: Stochastic Optimizer: Maximum iterations (200) reached and the optimization hasn't converged yet.\n",
      "  warnings.warn(\n",
      "C:\\Users\\michael\\anaconda3\\Lib\\site-packages\\sklearn\\neural_network\\_multilayer_perceptron.py:691: ConvergenceWarning: Stochastic Optimizer: Maximum iterations (200) reached and the optimization hasn't converged yet.\n",
      "  warnings.warn(\n",
      "C:\\Users\\michael\\anaconda3\\Lib\\site-packages\\sklearn\\neural_network\\_multilayer_perceptron.py:691: ConvergenceWarning: Stochastic Optimizer: Maximum iterations (200) reached and the optimization hasn't converged yet.\n",
      "  warnings.warn(\n",
      "C:\\Users\\michael\\anaconda3\\Lib\\site-packages\\sklearn\\neural_network\\_multilayer_perceptron.py:691: ConvergenceWarning: Stochastic Optimizer: Maximum iterations (200) reached and the optimization hasn't converged yet.\n",
      "  warnings.warn(\n",
      "C:\\Users\\michael\\anaconda3\\Lib\\site-packages\\sklearn\\neural_network\\_multilayer_perceptron.py:691: ConvergenceWarning: Stochastic Optimizer: Maximum iterations (200) reached and the optimization hasn't converged yet.\n",
      "  warnings.warn(\n",
      "C:\\Users\\michael\\anaconda3\\Lib\\site-packages\\sklearn\\neural_network\\_multilayer_perceptron.py:691: ConvergenceWarning: Stochastic Optimizer: Maximum iterations (200) reached and the optimization hasn't converged yet.\n",
      "  warnings.warn(\n"
     ]
    },
    {
     "data": {
      "image/png": "[encoded data removed]",
      "text/plain": [
       "<Figure size 640x480 with 1 Axes>"
      ]
     },
     "metadata": {},
     "output_type": "display_data"
    }
   ],
   "source": [
    "train_sizes, tr_s, val_s = learning_curve(pipe_multi, X_train_m, y_train_m,\n",
    "                                          cv=3, train_sizes=np.linspace(0.1,1,5),\n",
    "                                          scoring='accuracy')\n",
    "plt.plot(train_sizes, tr_s.mean(1), 'o-', label='Train')\n",
    "plt.plot(train_sizes, val_s.mean(1), 'o-', label='Val')\n",
    "plt.xlabel(\"Taille train\")\n",
    "plt.ylabel(\"Accuracy\")\n",
    "plt.title(\"Courbe apprentissage (multi-classes)\")\n",
    "plt.legend()\n",
    "plt.show()\n"
   ]
  },
  {
   "cell_type": "markdown",
   "id": "6d7af441",
   "metadata": {
    "id": "6d7af441"
   },
   "source": [
    "(d) Optimisation hyperparamètres"
   ]
  },
  {
   "cell_type": "code",
   "execution_count": null,
   "id": "d9c5d43d",
   "metadata": {
    "id": "d9c5d43d",
    "outputId": "18ed3747-eb7e-41c2-badf-89b3384081cd"
   },
   "outputs": [
    {
     "name": "stderr",
     "output_type": "stream",
     "text": [
      "C:\\Users\\michael\\anaconda3\\Lib\\site-packages\\sklearn\\neural_network\\_multilayer_perceptron.py:691: ConvergenceWarning: Stochastic Optimizer: Maximum iterations (200) reached and the optimization hasn't converged yet.\n",
      "  warnings.warn(\n",
      "C:\\Users\\michael\\anaconda3\\Lib\\site-packages\\sklearn\\neural_network\\_multilayer_perceptron.py:691: ConvergenceWarning: Stochastic Optimizer: Maximum iterations (200) reached and the optimization hasn't converged yet.\n",
      "  warnings.warn(\n",
      "C:\\Users\\michael\\anaconda3\\Lib\\site-packages\\sklearn\\neural_network\\_multilayer_perceptron.py:691: ConvergenceWarning: Stochastic Optimizer: Maximum iterations (200) reached and the optimization hasn't converged yet.\n",
      "  warnings.warn(\n",
      "C:\\Users\\michael\\anaconda3\\Lib\\site-packages\\sklearn\\neural_network\\_multilayer_perceptron.py:691: ConvergenceWarning: Stochastic Optimizer: Maximum iterations (300) reached and the optimization hasn't converged yet.\n",
      "  warnings.warn(\n",
      "C:\\Users\\michael\\anaconda3\\Lib\\site-packages\\sklearn\\neural_network\\_multilayer_perceptron.py:691: ConvergenceWarning: Stochastic Optimizer: Maximum iterations (300) reached and the optimization hasn't converged yet.\n",
      "  warnings.warn(\n",
      "C:\\Users\\michael\\anaconda3\\Lib\\site-packages\\sklearn\\neural_network\\_multilayer_perceptron.py:691: ConvergenceWarning: Stochastic Optimizer: Maximum iterations (300) reached and the optimization hasn't converged yet.\n",
      "  warnings.warn(\n",
      "C:\\Users\\michael\\anaconda3\\Lib\\site-packages\\sklearn\\neural_network\\_multilayer_perceptron.py:691: ConvergenceWarning: Stochastic Optimizer: Maximum iterations (300) reached and the optimization hasn't converged yet.\n",
      "  warnings.warn(\n",
      "C:\\Users\\michael\\anaconda3\\Lib\\site-packages\\sklearn\\neural_network\\_multilayer_perceptron.py:691: ConvergenceWarning: Stochastic Optimizer: Maximum iterations (300) reached and the optimization hasn't converged yet.\n",
      "  warnings.warn(\n",
      "C:\\Users\\michael\\anaconda3\\Lib\\site-packages\\sklearn\\neural_network\\_multilayer_perceptron.py:691: ConvergenceWarning: Stochastic Optimizer: Maximum iterations (300) reached and the optimization hasn't converged yet.\n",
      "  warnings.warn(\n",
      "C:\\Users\\michael\\anaconda3\\Lib\\site-packages\\sklearn\\neural_network\\_multilayer_perceptron.py:691: ConvergenceWarning: Stochastic Optimizer: Maximum iterations (200) reached and the optimization hasn't converged yet.\n",
      "  warnings.warn(\n",
      "C:\\Users\\michael\\anaconda3\\Lib\\site-packages\\sklearn\\neural_network\\_multilayer_perceptron.py:691: ConvergenceWarning: Stochastic Optimizer: Maximum iterations (200) reached and the optimization hasn't converged yet.\n",
      "  warnings.warn(\n",
      "C:\\Users\\michael\\anaconda3\\Lib\\site-packages\\sklearn\\neural_network\\_multilayer_perceptron.py:691: ConvergenceWarning: Stochastic Optimizer: Maximum iterations (200) reached and the optimization hasn't converged yet.\n",
      "  warnings.warn(\n",
      "C:\\Users\\michael\\anaconda3\\Lib\\site-packages\\sklearn\\neural_network\\_multilayer_perceptron.py:691: ConvergenceWarning: Stochastic Optimizer: Maximum iterations (200) reached and the optimization hasn't converged yet.\n",
      "  warnings.warn(\n",
      "C:\\Users\\michael\\anaconda3\\Lib\\site-packages\\sklearn\\neural_network\\_multilayer_perceptron.py:691: ConvergenceWarning: Stochastic Optimizer: Maximum iterations (200) reached and the optimization hasn't converged yet.\n",
      "  warnings.warn(\n",
      "C:\\Users\\michael\\anaconda3\\Lib\\site-packages\\sklearn\\neural_network\\_multilayer_perceptron.py:691: ConvergenceWarning: Stochastic Optimizer: Maximum iterations (200) reached and the optimization hasn't converged yet.\n",
      "  warnings.warn(\n",
      "C:\\Users\\michael\\anaconda3\\Lib\\site-packages\\sklearn\\neural_network\\_multilayer_perceptron.py:691: ConvergenceWarning: Stochastic Optimizer: Maximum iterations (200) reached and the optimization hasn't converged yet.\n",
      "  warnings.warn(\n",
      "C:\\Users\\michael\\anaconda3\\Lib\\site-packages\\sklearn\\neural_network\\_multilayer_perceptron.py:691: ConvergenceWarning: Stochastic Optimizer: Maximum iterations (200) reached and the optimization hasn't converged yet.\n",
      "  warnings.warn(\n",
      "C:\\Users\\michael\\anaconda3\\Lib\\site-packages\\sklearn\\neural_network\\_multilayer_perceptron.py:691: ConvergenceWarning: Stochastic Optimizer: Maximum iterations (200) reached and the optimization hasn't converged yet.\n",
      "  warnings.warn(\n"
     ]
    },
    {
     "name": "stdout",
     "output_type": "stream",
     "text": [
      "Meilleurs params (multi) : {'mlp__solver': 'sgd', 'mlp__max_iter': 200, 'mlp__learning_rate_init': 0.01, 'mlp__hidden_layer_sizes': (50, 50), 'mlp__activation': 'tanh'}\n",
      "Accuracy CV (multi) meilleur : 0.7567496486045021\n"
     ]
    },
    {
     "name": "stderr",
     "output_type": "stream",
     "text": [
      "C:\\Users\\michael\\anaconda3\\Lib\\site-packages\\sklearn\\neural_network\\_multilayer_perceptron.py:691: ConvergenceWarning: Stochastic Optimizer: Maximum iterations (200) reached and the optimization hasn't converged yet.\n",
      "  warnings.warn(\n"
     ]
    }
   ],
   "source": [
    "rand_search_m = RandomizedSearchCV(pipe_multi, param_dist,\n",
    "                                  n_iter=8, cv=3, scoring='accuracy',\n",
    "                                  random_state=42)\n",
    "rand_search_m.fit(X_train_m, y_train_m)\n",
    "print(\"Meilleurs params (multi) :\", rand_search_m.best_params_)\n",
    "print(\"Accuracy CV (multi) meilleur :\", rand_search_m.best_score_)\n"
   ]
  },
  {
   "cell_type": "markdown",
   "id": "e1a97dc9",
   "metadata": {
    "id": "e1a97dc9"
   },
   "source": [
    "(e) Évaluation test"
   ]
  },
  {
   "cell_type": "code",
   "execution_count": null,
   "id": "049475b3",
   "metadata": {
    "id": "049475b3",
    "outputId": "a812c20a-1036-447f-e680-5f6bef7beccc"
   },
   "outputs": [
    {
     "name": "stdout",
     "output_type": "stream",
     "text": [
      "              precision    recall  f1-score   support\n",
      "\n",
      "         bas       0.84      0.72      0.78       539\n",
      "       eleve       0.75      0.77      0.76       510\n",
      "       moyen       0.74      0.79      0.76       951\n",
      "\n",
      "    accuracy                           0.77      2000\n",
      "   macro avg       0.78      0.76      0.77      2000\n",
      "weighted avg       0.77      0.77      0.77      2000\n",
      "\n"
     ]
    }
   ],
   "source": [
    "best_multi = rand_search_m.best_estimator_\n",
    "print(classification_report(y_test_m, best_multi.predict(X_test_m)))\n"
   ]
  },
  {
   "cell_type": "markdown",
   "id": "a6f558a4",
   "metadata": {
    "id": "a6f558a4"
   },
   "source": [
    "(f) Comparaison avec devoir #2"
   ]
  },
  {
   "cell_type": "markdown",
   "id": "64aa1a59",
   "metadata": {
    "id": "6b86d7d6"
   },
   "source": [
    "PMC multi‑classes optimisé : ~77% d’accuracy test (F1 ~0.77 pour chaque classe).\n",
    "Arbre du devoir #2 : ~67% en multi‑classes → gain d’environ +10 points.\n"
   ]
  },
  {
   "cell_type": "markdown",
   "id": "485dad54",
   "metadata": {
    "id": "485dad54"
   },
   "source": [
    "2.2 Entraînement d’un classifieur d’images (Fashion‑MNIST)"
   ]
  },
  {
   "cell_type": "markdown",
   "id": "d00ee39f",
   "metadata": {
    "id": "d00ee39f"
   },
   "source": [
    "2.2.1 Re‑exécution du PMC Keras fourni"
   ]
  },
  {
   "cell_type": "markdown",
   "id": "39703325",
   "metadata": {
    "id": "39703325"
   },
   "source": [
    "Charger et exécuter le code MLP Keras pour obtenir la référence (~89% val, ~88% test).\n"
   ]
  },
  {
   "cell_type": "code",
   "execution_count": 3,
   "id": "7925d31e",
   "metadata": {
    "colab": {
     "base_uri": "https://localhost:8080/"
    },
    "id": "7925d31e",
    "outputId": "10ecc9b0-82dd-4016-8049-74e10408a7d3"
   },
   "outputs": [
    {
     "name": "stdout",
     "output_type": "stream",
     "text": [
      "Downloading data from https://storage.googleapis.com/tensorflow/tf-keras-datasets/train-labels-idx1-ubyte.gz\n",
      "\u001b[1m29515/29515\u001b[0m \u001b[32m━━━━━━━━━━━━━━━━━━━━\u001b[0m\u001b[37m\u001b[0m \u001b[1m0s\u001b[0m 0us/step\n",
      "Downloading data from https://storage.googleapis.com/tensorflow/tf-keras-datasets/train-images-idx3-ubyte.gz\n",
      "\u001b[1m26421880/26421880\u001b[0m \u001b[32m━━━━━━━━━━━━━━━━━━━━\u001b[0m\u001b[37m\u001b[0m \u001b[1m2s\u001b[0m 0us/step\n",
      "Downloading data from https://storage.googleapis.com/tensorflow/tf-keras-datasets/t10k-labels-idx1-ubyte.gz\n",
      "\u001b[1m5148/5148\u001b[0m \u001b[32m━━━━━━━━━━━━━━━━━━━━\u001b[0m\u001b[37m\u001b[0m \u001b[1m0s\u001b[0m 0us/step\n",
      "Downloading data from https://storage.googleapis.com/tensorflow/tf-keras-datasets/t10k-images-idx3-ubyte.gz\n",
      "\u001b[1m4422102/4422102\u001b[0m \u001b[32m━━━━━━━━━━━━━━━━━━━━\u001b[0m\u001b[37m\u001b[0m \u001b[1m1s\u001b[0m 0us/step\n"
     ]
    },
    {
     "name": "stderr",
     "output_type": "stream",
     "text": [
      "/usr/local/lib/python3.11/dist-packages/keras/src/layers/reshaping/flatten.py:37: UserWarning: Do not pass an `input_shape`/`input_dim` argument to a layer. When using Sequential models, prefer using an `Input(shape)` object as the first layer in the model instead.\n",
      "  super().__init__(**kwargs)\n"
     ]
    },
    {
     "name": "stdout",
     "output_type": "stream",
     "text": [
      "Epoch 1/30\n",
      "\u001b[1m1719/1719\u001b[0m \u001b[32m━━━━━━━━━━━━━━━━━━━━\u001b[0m\u001b[37m\u001b[0m \u001b[1m7s\u001b[0m 4ms/step - accuracy: 0.6842 - loss: 1.0013 - val_accuracy: 0.8134 - val_loss: 0.5723\n",
      "Epoch 2/30\n",
      "\u001b[1m1719/1719\u001b[0m \u001b[32m━━━━━━━━━━━━━━━━━━━━\u001b[0m\u001b[37m\u001b[0m \u001b[1m7s\u001b[0m 2ms/step - accuracy: 0.8244 - loss: 0.5103 - val_accuracy: 0.8292 - val_loss: 0.4808\n",
      "Epoch 3/30\n",
      "\u001b[1m1719/1719\u001b[0m \u001b[32m━━━━━━━━━━━━━━━━━━━━\u001b[0m\u001b[37m\u001b[0m \u001b[1m7s\u001b[0m 3ms/step - accuracy: 0.8442 - loss: 0.4433 - val_accuracy: 0.8652 - val_loss: 0.4093\n",
      "Epoch 4/30\n",
      "\u001b[1m1719/1719\u001b[0m \u001b[32m━━━━━━━━━━━━━━━━━━━━\u001b[0m\u001b[37m\u001b[0m \u001b[1m9s\u001b[0m 3ms/step - accuracy: 0.8554 - loss: 0.4187 - val_accuracy: 0.8522 - val_loss: 0.4164\n",
      "Epoch 5/30\n",
      "\u001b[1m1719/1719\u001b[0m \u001b[32m━━━━━━━━━━━━━━━━━━━━\u001b[0m\u001b[37m\u001b[0m \u001b[1m4s\u001b[0m 2ms/step - accuracy: 0.8609 - loss: 0.3987 - val_accuracy: 0.8746 - val_loss: 0.3747\n",
      "Epoch 6/30\n",
      "\u001b[1m1719/1719\u001b[0m \u001b[32m━━━━━━━━━━━━━━━━━━━━\u001b[0m\u001b[37m\u001b[0m \u001b[1m4s\u001b[0m 2ms/step - accuracy: 0.8668 - loss: 0.3813 - val_accuracy: 0.8660 - val_loss: 0.3916\n",
      "Epoch 7/30\n",
      "\u001b[1m1719/1719\u001b[0m \u001b[32m━━━━━━━━━━━━━━━━━━━━\u001b[0m\u001b[37m\u001b[0m \u001b[1m4s\u001b[0m 3ms/step - accuracy: 0.8715 - loss: 0.3652 - val_accuracy: 0.8702 - val_loss: 0.3749\n",
      "Epoch 8/30\n",
      "\u001b[1m1719/1719\u001b[0m \u001b[32m━━━━━━━━━━━━━━━━━━━━\u001b[0m\u001b[37m\u001b[0m \u001b[1m5s\u001b[0m 2ms/step - accuracy: 0.8794 - loss: 0.3502 - val_accuracy: 0.8800 - val_loss: 0.3534\n",
      "Epoch 9/30\n",
      "\u001b[1m1719/1719\u001b[0m \u001b[32m━━━━━━━━━━━━━━━━━━━━\u001b[0m\u001b[37m\u001b[0m \u001b[1m5s\u001b[0m 2ms/step - accuracy: 0.8790 - loss: 0.3474 - val_accuracy: 0.8786 - val_loss: 0.3541\n",
      "Epoch 10/30\n",
      "\u001b[1m1719/1719\u001b[0m \u001b[32m━━━━━━━━━━━━━━━━━━━━\u001b[0m\u001b[37m\u001b[0m \u001b[1m5s\u001b[0m 2ms/step - accuracy: 0.8841 - loss: 0.3295 - val_accuracy: 0.8686 - val_loss: 0.3715\n",
      "Epoch 11/30\n",
      "\u001b[1m1719/1719\u001b[0m \u001b[32m━━━━━━━━━━━━━━━━━━━━\u001b[0m\u001b[37m\u001b[0m \u001b[1m5s\u001b[0m 2ms/step - accuracy: 0.8832 - loss: 0.3244 - val_accuracy: 0.8836 - val_loss: 0.3350\n",
      "Epoch 12/30\n",
      "\u001b[1m1719/1719\u001b[0m \u001b[32m━━━━━━━━━━━━━━━━━━━━\u001b[0m\u001b[37m\u001b[0m \u001b[1m5s\u001b[0m 3ms/step - accuracy: 0.8865 - loss: 0.3157 - val_accuracy: 0.8872 - val_loss: 0.3268\n",
      "Epoch 13/30\n",
      "\u001b[1m1719/1719\u001b[0m \u001b[32m━━━━━━━━━━━━━━━━━━━━\u001b[0m\u001b[37m\u001b[0m \u001b[1m4s\u001b[0m 2ms/step - accuracy: 0.8892 - loss: 0.3105 - val_accuracy: 0.8884 - val_loss: 0.3236\n",
      "Epoch 14/30\n",
      "\u001b[1m1719/1719\u001b[0m \u001b[32m━━━━━━━━━━━━━━━━━━━━\u001b[0m\u001b[37m\u001b[0m \u001b[1m4s\u001b[0m 2ms/step - accuracy: 0.8923 - loss: 0.3036 - val_accuracy: 0.8754 - val_loss: 0.3475\n",
      "Epoch 15/30\n",
      "\u001b[1m1719/1719\u001b[0m \u001b[32m━━━━━━━━━━━━━━━━━━━━\u001b[0m\u001b[37m\u001b[0m \u001b[1m5s\u001b[0m 2ms/step - accuracy: 0.8914 - loss: 0.3018 - val_accuracy: 0.8870 - val_loss: 0.3267\n",
      "Epoch 16/30\n",
      "\u001b[1m1719/1719\u001b[0m \u001b[32m━━━━━━━━━━━━━━━━━━━━\u001b[0m\u001b[37m\u001b[0m \u001b[1m4s\u001b[0m 2ms/step - accuracy: 0.8971 - loss: 0.2866 - val_accuracy: 0.8880 - val_loss: 0.3211\n",
      "Epoch 17/30\n",
      "\u001b[1m1719/1719\u001b[0m \u001b[32m━━━━━━━━━━━━━━━━━━━━\u001b[0m\u001b[37m\u001b[0m \u001b[1m6s\u001b[0m 3ms/step - accuracy: 0.8948 - loss: 0.2884 - val_accuracy: 0.8898 - val_loss: 0.3229\n",
      "Epoch 18/30\n",
      "\u001b[1m1719/1719\u001b[0m \u001b[32m━━━━━━━━━━━━━━━━━━━━\u001b[0m\u001b[37m\u001b[0m \u001b[1m4s\u001b[0m 2ms/step - accuracy: 0.9026 - loss: 0.2732 - val_accuracy: 0.8882 - val_loss: 0.3175\n",
      "Epoch 19/30\n",
      "\u001b[1m1719/1719\u001b[0m \u001b[32m━━━━━━━━━━━━━━━━━━━━\u001b[0m\u001b[37m\u001b[0m \u001b[1m4s\u001b[0m 2ms/step - accuracy: 0.9014 - loss: 0.2767 - val_accuracy: 0.8822 - val_loss: 0.3229\n",
      "Epoch 20/30\n",
      "\u001b[1m1719/1719\u001b[0m \u001b[32m━━━━━━━━━━━━━━━━━━━━\u001b[0m\u001b[37m\u001b[0m \u001b[1m5s\u001b[0m 2ms/step - accuracy: 0.9034 - loss: 0.2664 - val_accuracy: 0.8898 - val_loss: 0.3170\n",
      "Epoch 21/30\n",
      "\u001b[1m1719/1719\u001b[0m \u001b[32m━━━━━━━━━━━━━━━━━━━━\u001b[0m\u001b[37m\u001b[0m \u001b[1m4s\u001b[0m 2ms/step - accuracy: 0.9039 - loss: 0.2673 - val_accuracy: 0.8758 - val_loss: 0.3436\n",
      "Epoch 22/30\n",
      "\u001b[1m1719/1719\u001b[0m \u001b[32m━━━━━━━━━━━━━━━━━━━━\u001b[0m\u001b[37m\u001b[0m \u001b[1m6s\u001b[0m 3ms/step - accuracy: 0.9067 - loss: 0.2622 - val_accuracy: 0.8934 - val_loss: 0.3034\n",
      "Epoch 23/30\n",
      "\u001b[1m1719/1719\u001b[0m \u001b[32m━━━━━━━━━━━━━━━━━━━━\u001b[0m\u001b[37m\u001b[0m \u001b[1m4s\u001b[0m 2ms/step - accuracy: 0.9076 - loss: 0.2546 - val_accuracy: 0.8918 - val_loss: 0.3062\n",
      "Epoch 24/30\n",
      "\u001b[1m1719/1719\u001b[0m \u001b[32m━━━━━━━━━━━━━━━━━━━━\u001b[0m\u001b[37m\u001b[0m \u001b[1m4s\u001b[0m 2ms/step - accuracy: 0.9098 - loss: 0.2524 - val_accuracy: 0.8936 - val_loss: 0.3007\n",
      "Epoch 25/30\n",
      "\u001b[1m1719/1719\u001b[0m \u001b[32m━━━━━━━━━━━━━━━━━━━━\u001b[0m\u001b[37m\u001b[0m \u001b[1m5s\u001b[0m 3ms/step - accuracy: 0.9117 - loss: 0.2445 - val_accuracy: 0.8884 - val_loss: 0.3100\n",
      "Epoch 26/30\n",
      "\u001b[1m1719/1719\u001b[0m \u001b[32m━━━━━━━━━━━━━━━━━━━━\u001b[0m\u001b[37m\u001b[0m \u001b[1m4s\u001b[0m 2ms/step - accuracy: 0.9115 - loss: 0.2406 - val_accuracy: 0.8860 - val_loss: 0.3050\n",
      "Epoch 27/30\n",
      "\u001b[1m1719/1719\u001b[0m \u001b[32m━━━━━━━━━━━━━━━━━━━━\u001b[0m\u001b[37m\u001b[0m \u001b[1m6s\u001b[0m 3ms/step - accuracy: 0.9132 - loss: 0.2393 - val_accuracy: 0.8914 - val_loss: 0.3032\n",
      "Epoch 28/30\n",
      "\u001b[1m1719/1719\u001b[0m \u001b[32m━━━━━━━━━━━━━━━━━━━━\u001b[0m\u001b[37m\u001b[0m \u001b[1m4s\u001b[0m 2ms/step - accuracy: 0.9147 - loss: 0.2355 - val_accuracy: 0.8876 - val_loss: 0.3107\n",
      "Epoch 29/30\n",
      "\u001b[1m1719/1719\u001b[0m \u001b[32m━━━━━━━━━━━━━━━━━━━━\u001b[0m\u001b[37m\u001b[0m \u001b[1m5s\u001b[0m 2ms/step - accuracy: 0.9178 - loss: 0.2306 - val_accuracy: 0.8808 - val_loss: 0.3328\n",
      "Epoch 30/30\n",
      "\u001b[1m1719/1719\u001b[0m \u001b[32m━━━━━━━━━━━━━━━━━━━━\u001b[0m\u001b[37m\u001b[0m \u001b[1m4s\u001b[0m 3ms/step - accuracy: 0.9185 - loss: 0.2264 - val_accuracy: 0.8974 - val_loss: 0.2953\n",
      "Test accuracy MLP: 0.8866999745368958\n"
     ]
    }
   ],
   "source": [
    "from tensorflow import keras\n",
    "\n",
    "# Chargement et split\n",
    "(X_full, y_full),(X_test_img, y_test_img) = keras.datasets.fashion_mnist.load_data()\n",
    "X_full, X_test_img = X_full/255.0, X_test_img/255.0\n",
    "X_val, X_train = X_full[:5000], X_full[5000:]\n",
    "y_val, y_train = y_full[:5000], y_full[5000:]\n",
    "\n",
    "# MLP Keras de référence\n",
    "model_mlp = keras.Sequential([\n",
    "    keras.layers.Flatten(input_shape=(28,28)),\n",
    "    keras.layers.Dense(300, activation='relu'),\n",
    "    keras.layers.Dense(100, activation='relu'),\n",
    "    keras.layers.Dense(10, activation='softmax')\n",
    "])\n",
    "model_mlp.compile(loss='sparse_categorical_crossentropy',\n",
    "                  optimizer='sgd', metrics=['accuracy'])\n",
    "history_mlp = model_mlp.fit(X_train, y_train,\n",
    "                            epochs=30, validation_data=(X_val,y_val))\n",
    "print(\"Test accuracy MLP:\", model_mlp.evaluate(X_test_img, y_test_img, verbose=0)[1])\n"
   ]
  },
  {
   "cell_type": "markdown",
   "id": "J27nUl5KZYXX",
   "metadata": {
    "id": "J27nUl5KZYXX"
   },
   "source": [
    "2.2.2 Implantation d’un CNN amélioré"
   ]
  },
  {
   "cell_type": "markdown",
   "id": "e6TzXqunZi5L",
   "metadata": {
    "id": "e6TzXqunZi5L"
   },
   "source": [
    "Architecture : 2×(Conv2D→ReLU) + MaxPool + Dropout + Flatten + Dense(128) + Dense(10).\n"
   ]
  },
  {
   "cell_type": "code",
   "execution_count": 4,
   "id": "jTcvJ-kRZdSv",
   "metadata": {
    "colab": {
     "base_uri": "https://localhost:8080/"
    },
    "id": "jTcvJ-kRZdSv",
    "outputId": "7c343d65-b785-47fa-9e3d-91d8941e9eaa"
   },
   "outputs": [
    {
     "name": "stderr",
     "output_type": "stream",
     "text": [
      "/usr/local/lib/python3.11/dist-packages/keras/src/layers/reshaping/reshape.py:39: UserWarning: Do not pass an `input_shape`/`input_dim` argument to a layer. When using Sequential models, prefer using an `Input(shape)` object as the first layer in the model instead.\n",
      "  super().__init__(**kwargs)\n"
     ]
    },
    {
     "name": "stdout",
     "output_type": "stream",
     "text": [
      "Epoch 1/15\n",
      "\u001b[1m1719/1719\u001b[0m \u001b[32m━━━━━━━━━━━━━━━━━━━━\u001b[0m\u001b[37m\u001b[0m \u001b[1m13s\u001b[0m 5ms/step - accuracy: 0.8082 - loss: 0.5235 - val_accuracy: 0.9048 - val_loss: 0.2644\n",
      "Epoch 2/15\n",
      "\u001b[1m1719/1719\u001b[0m \u001b[32m━━━━━━━━━━━━━━━━━━━━\u001b[0m\u001b[37m\u001b[0m \u001b[1m6s\u001b[0m 4ms/step - accuracy: 0.9067 - loss: 0.2592 - val_accuracy: 0.9096 - val_loss: 0.2466\n",
      "Epoch 3/15\n",
      "\u001b[1m1719/1719\u001b[0m \u001b[32m━━━━━━━━━━━━━━━━━━━━\u001b[0m\u001b[37m\u001b[0m \u001b[1m10s\u001b[0m 3ms/step - accuracy: 0.9272 - loss: 0.1941 - val_accuracy: 0.9174 - val_loss: 0.2215\n",
      "Epoch 4/15\n",
      "\u001b[1m1719/1719\u001b[0m \u001b[32m━━━━━━━━━━━━━━━━━━━━\u001b[0m\u001b[37m\u001b[0m \u001b[1m6s\u001b[0m 4ms/step - accuracy: 0.9421 - loss: 0.1542 - val_accuracy: 0.9198 - val_loss: 0.2257\n",
      "Epoch 5/15\n",
      "\u001b[1m1719/1719\u001b[0m \u001b[32m━━━━━━━━━━━━━━━━━━━━\u001b[0m\u001b[37m\u001b[0m \u001b[1m6s\u001b[0m 3ms/step - accuracy: 0.9536 - loss: 0.1231 - val_accuracy: 0.9210 - val_loss: 0.2258\n",
      "Epoch 6/15\n",
      "\u001b[1m1719/1719\u001b[0m \u001b[32m━━━━━━━━━━━━━━━━━━━━\u001b[0m\u001b[37m\u001b[0m \u001b[1m10s\u001b[0m 3ms/step - accuracy: 0.9629 - loss: 0.0977 - val_accuracy: 0.9218 - val_loss: 0.2529\n",
      "Epoch 7/15\n",
      "\u001b[1m1719/1719\u001b[0m \u001b[32m━━━━━━━━━━━━━━━━━━━━\u001b[0m\u001b[37m\u001b[0m \u001b[1m6s\u001b[0m 4ms/step - accuracy: 0.9697 - loss: 0.0787 - val_accuracy: 0.9214 - val_loss: 0.2507\n",
      "Epoch 8/15\n",
      "\u001b[1m1719/1719\u001b[0m \u001b[32m━━━━━━━━━━━━━━━━━━━━\u001b[0m\u001b[37m\u001b[0m \u001b[1m6s\u001b[0m 3ms/step - accuracy: 0.9756 - loss: 0.0655 - val_accuracy: 0.9160 - val_loss: 0.2733\n",
      "Epoch 9/15\n",
      "\u001b[1m1719/1719\u001b[0m \u001b[32m━━━━━━━━━━━━━━━━━━━━\u001b[0m\u001b[37m\u001b[0m \u001b[1m10s\u001b[0m 3ms/step - accuracy: 0.9795 - loss: 0.0556 - val_accuracy: 0.9236 - val_loss: 0.2891\n",
      "Epoch 10/15\n",
      "\u001b[1m1719/1719\u001b[0m \u001b[32m━━━━━━━━━━━━━━━━━━━━\u001b[0m\u001b[37m\u001b[0m \u001b[1m6s\u001b[0m 4ms/step - accuracy: 0.9833 - loss: 0.0482 - val_accuracy: 0.9306 - val_loss: 0.2743\n",
      "Epoch 11/15\n",
      "\u001b[1m1719/1719\u001b[0m \u001b[32m━━━━━━━━━━━━━━━━━━━━\u001b[0m\u001b[37m\u001b[0m \u001b[1m6s\u001b[0m 4ms/step - accuracy: 0.9850 - loss: 0.0414 - val_accuracy: 0.9276 - val_loss: 0.2933\n",
      "Epoch 12/15\n",
      "\u001b[1m1719/1719\u001b[0m \u001b[32m━━━━━━━━━━━━━━━━━━━━\u001b[0m\u001b[37m\u001b[0m \u001b[1m6s\u001b[0m 4ms/step - accuracy: 0.9864 - loss: 0.0378 - val_accuracy: 0.9278 - val_loss: 0.3132\n",
      "Epoch 13/15\n",
      "\u001b[1m1719/1719\u001b[0m \u001b[32m━━━━━━━━━━━━━━━━━━━━\u001b[0m\u001b[37m\u001b[0m \u001b[1m6s\u001b[0m 3ms/step - accuracy: 0.9880 - loss: 0.0346 - val_accuracy: 0.9236 - val_loss: 0.3564\n",
      "Epoch 14/15\n",
      "\u001b[1m1719/1719\u001b[0m \u001b[32m━━━━━━━━━━━━━━━━━━━━\u001b[0m\u001b[37m\u001b[0m \u001b[1m10s\u001b[0m 4ms/step - accuracy: 0.9885 - loss: 0.0317 - val_accuracy: 0.9270 - val_loss: 0.3532\n",
      "Epoch 15/15\n",
      "\u001b[1m1719/1719\u001b[0m \u001b[32m━━━━━━━━━━━━━━━━━━━━\u001b[0m\u001b[37m\u001b[0m \u001b[1m7s\u001b[0m 4ms/step - accuracy: 0.9903 - loss: 0.0279 - val_accuracy: 0.9214 - val_loss: 0.3554\n",
      "Test accuracy CNN: 0.9214000105857849\n"
     ]
    }
   ],
   "source": [
    "model_cnn = keras.Sequential([\n",
    "    keras.layers.Reshape((28,28,1), input_shape=(28,28)),\n",
    "    keras.layers.Conv2D(32,3, activation='relu'),\n",
    "    keras.layers.Conv2D(64,3, activation='relu'),\n",
    "    keras.layers.MaxPooling2D(2),\n",
    "    keras.layers.Dropout(0.25),\n",
    "    keras.layers.Flatten(),\n",
    "    keras.layers.Dense(128, activation='relu'),\n",
    "    keras.layers.Dense(10, activation='softmax')\n",
    "])\n",
    "model_cnn.compile(loss='sparse_categorical_crossentropy',\n",
    "                  optimizer='adam', metrics=['accuracy'])\n",
    "history_cnn = model_cnn.fit(X_train, y_train,\n",
    "                            epochs=15, validation_data=(X_val,y_val))\n",
    "print(\"Test accuracy CNN:\", model_cnn.evaluate(X_test_img, y_test_img, verbose=0)[1])\n"
   ]
  },
  {
   "cell_type": "markdown",
   "id": "kP4RSA9rZu5X",
   "metadata": {
    "id": "kP4RSA9rZu5X"
   },
   "source": [
    "2.2.3 Courbe d’apprentissage du CNN"
   ]
  },
  {
   "cell_type": "code",
   "execution_count": 6,
   "id": "8v1WqhSLZwdx",
   "metadata": {
    "colab": {
     "base_uri": "https://localhost:8080/",
     "height": 474
    },
    "id": "8v1WqhSLZwdx",
    "outputId": "9293ac99-6ca6-4580-c71f-b3aba811dae9"
   },
   "outputs": [
    {
     "data": {
      "image/png": "[encoded data removed]",
      "text/plain": [
       "<Figure size 640x480 with 1 Axes>"
      ]
     },
     "metadata": {},
     "output_type": "display_data"
    }
   ],
   "source": [
    "import matplotlib.pyplot as plt\n",
    "%matplotlib inline\n",
    "\n",
    "plt.plot(history_cnn.history['accuracy'], label='Train')\n",
    "plt.plot(history_cnn.history['val_accuracy'], label='Validation')\n",
    "plt.xlabel(\"Époques\")\n",
    "plt.ylabel(\"Accuracy\")\n",
    "plt.title(\"Courbe apprentissage CNN\")\n",
    "plt.legend()\n",
    "plt.show()\n"
   ]
  },
  {
   "cell_type": "markdown",
   "id": "0B5QGTu2Z2-W",
   "metadata": {
    "id": "0B5QGTu2Z2-W"
   },
   "source": [
    "2.2.4 Entraînement avec augmentation de données"
   ]
  },
  {
   "cell_type": "code",
   "execution_count": 8,
   "id": "Uek1pTctdiCt",
   "metadata": {
    "colab": {
     "base_uri": "https://localhost:8080/"
    },
    "id": "Uek1pTctdiCt",
    "outputId": "4c9cbe1f-54af-47ba-da49-a511a8e8fd5c"
   },
   "outputs": [
    {
     "name": "stdout",
     "output_type": "stream",
     "text": [
      "Epoch 1/15\n"
     ]
    },
    {
     "name": "stderr",
     "output_type": "stream",
     "text": [
      "/usr/local/lib/python3.11/dist-packages/keras/src/trainers/data_adapters/py_dataset_adapter.py:121: UserWarning: Your `PyDataset` class should call `super().__init__(**kwargs)` in its constructor. `**kwargs` can include `workers`, `use_multiprocessing`, `max_queue_size`. Do not pass these arguments to `fit()`, as they will be ignored.\n",
      "  self._warn_if_super_not_called()\n"
     ]
    },
    {
     "name": "stdout",
     "output_type": "stream",
     "text": [
      "\u001b[1m1719/1719\u001b[0m \u001b[32m━━━━━━━━━━━━━━━━━━━━\u001b[0m\u001b[37m\u001b[0m \u001b[1m24s\u001b[0m 12ms/step - accuracy: 0.7527 - loss: 0.6689 - val_accuracy: 0.8836 - val_loss: 0.3222\n",
      "Epoch 2/15\n",
      "\u001b[1m1719/1719\u001b[0m \u001b[32m━━━━━━━━━━━━━━━━━━━━\u001b[0m\u001b[37m\u001b[0m \u001b[1m21s\u001b[0m 12ms/step - accuracy: 0.8569 - loss: 0.3817 - val_accuracy: 0.9012 - val_loss: 0.2730\n",
      "Epoch 3/15\n",
      "\u001b[1m1719/1719\u001b[0m \u001b[32m━━━━━━━━━━━━━━━━━━━━\u001b[0m\u001b[37m\u001b[0m \u001b[1m18s\u001b[0m 11ms/step - accuracy: 0.8807 - loss: 0.3216 - val_accuracy: 0.9064 - val_loss: 0.2498\n",
      "Epoch 4/15\n",
      "\u001b[1m1719/1719\u001b[0m \u001b[32m━━━━━━━━━━━━━━━━━━━━\u001b[0m\u001b[37m\u001b[0m \u001b[1m20s\u001b[0m 10ms/step - accuracy: 0.8895 - loss: 0.2944 - val_accuracy: 0.9128 - val_loss: 0.2291\n",
      "Epoch 5/15\n",
      "\u001b[1m1719/1719\u001b[0m \u001b[32m━━━━━━━━━━━━━━━━━━━━\u001b[0m\u001b[37m\u001b[0m \u001b[1m19s\u001b[0m 11ms/step - accuracy: 0.8981 - loss: 0.2732 - val_accuracy: 0.9082 - val_loss: 0.2461\n",
      "Epoch 6/15\n",
      "\u001b[1m1719/1719\u001b[0m \u001b[32m━━━━━━━━━━━━━━━━━━━━\u001b[0m\u001b[37m\u001b[0m \u001b[1m18s\u001b[0m 10ms/step - accuracy: 0.9025 - loss: 0.2620 - val_accuracy: 0.9212 - val_loss: 0.2139\n",
      "Epoch 7/15\n",
      "\u001b[1m1719/1719\u001b[0m \u001b[32m━━━━━━━━━━━━━━━━━━━━\u001b[0m\u001b[37m\u001b[0m \u001b[1m18s\u001b[0m 11ms/step - accuracy: 0.9102 - loss: 0.2401 - val_accuracy: 0.9168 - val_loss: 0.2159\n",
      "Epoch 8/15\n",
      "\u001b[1m1719/1719\u001b[0m \u001b[32m━━━━━━━━━━━━━━━━━━━━\u001b[0m\u001b[37m\u001b[0m \u001b[1m19s\u001b[0m 11ms/step - accuracy: 0.9131 - loss: 0.2332 - val_accuracy: 0.9200 - val_loss: 0.2189\n",
      "Epoch 9/15\n",
      "\u001b[1m1719/1719\u001b[0m \u001b[32m━━━━━━━━━━━━━━━━━━━━\u001b[0m\u001b[37m\u001b[0m \u001b[1m20s\u001b[0m 11ms/step - accuracy: 0.9157 - loss: 0.2311 - val_accuracy: 0.9240 - val_loss: 0.2134\n",
      "Epoch 10/15\n",
      "\u001b[1m1719/1719\u001b[0m \u001b[32m━━━━━━━━━━━━━━━━━━━━\u001b[0m\u001b[37m\u001b[0m \u001b[1m19s\u001b[0m 11ms/step - accuracy: 0.9165 - loss: 0.2234 - val_accuracy: 0.9248 - val_loss: 0.2013\n",
      "Epoch 11/15\n",
      "\u001b[1m1719/1719\u001b[0m \u001b[32m━━━━━━━━━━━━━━━━━━━━\u001b[0m\u001b[37m\u001b[0m \u001b[1m20s\u001b[0m 11ms/step - accuracy: 0.9210 - loss: 0.2126 - val_accuracy: 0.9200 - val_loss: 0.2248\n",
      "Epoch 12/15\n",
      "\u001b[1m1719/1719\u001b[0m \u001b[32m━━━━━━━━━━━━━━━━━━━━\u001b[0m\u001b[37m\u001b[0m \u001b[1m19s\u001b[0m 11ms/step - accuracy: 0.9199 - loss: 0.2139 - val_accuracy: 0.9278 - val_loss: 0.2100\n",
      "Epoch 13/15\n",
      "\u001b[1m1719/1719\u001b[0m \u001b[32m━━━━━━━━━━━━━━━━━━━━\u001b[0m\u001b[37m\u001b[0m \u001b[1m19s\u001b[0m 11ms/step - accuracy: 0.9236 - loss: 0.2061 - val_accuracy: 0.9280 - val_loss: 0.1992\n",
      "Epoch 14/15\n",
      "\u001b[1m1719/1719\u001b[0m \u001b[32m━━━━━━━━━━━━━━━━━━━━\u001b[0m\u001b[37m\u001b[0m \u001b[1m21s\u001b[0m 11ms/step - accuracy: 0.9228 - loss: 0.2064 - val_accuracy: 0.9294 - val_loss: 0.2045\n",
      "Epoch 15/15\n",
      "\u001b[1m1719/1719\u001b[0m \u001b[32m━━━━━━━━━━━━━━━━━━━━\u001b[0m\u001b[37m\u001b[0m \u001b[1m18s\u001b[0m 10ms/step - accuracy: 0.9262 - loss: 0.1968 - val_accuracy: 0.9302 - val_loss: 0.2020\n",
      "Test accuracy CNN + augmentation : 0.9190000295639038\n"
     ]
    }
   ],
   "source": [
    "from tensorflow.keras.preprocessing.image import ImageDataGenerator\n",
    "\n",
    "# 1) Reshape en 4D (n_samples, 28, 28, 1)\n",
    "X_train_reshaped = X_train.reshape(-1, 28, 28, 1)\n",
    "X_val_reshaped   = X_val  .reshape(-1, 28, 28, 1)\n",
    "X_test_reshaped  = X_test_img.reshape(-1, 28, 28, 1)\n",
    "\n",
    "# 2) Création du générateur avec transformations\n",
    "datagen = ImageDataGenerator(\n",
    "    rotation_range=15,\n",
    "    zoom_range=0.1,\n",
    "    horizontal_flip=True\n",
    ")\n",
    "datagen.fit(X_train_reshaped)\n",
    "\n",
    "# 3) Clonage et compilation du modèle CNN d'origine\n",
    "model_cnn_aug = keras.models.clone_model(model_cnn)\n",
    "model_cnn_aug.compile(\n",
    "    loss='sparse_categorical_crossentropy',\n",
    "    optimizer='adam',\n",
    "    metrics=['accuracy']\n",
    ")\n",
    "\n",
    "# 4) Entraînement via .flow sur les données reshaped\n",
    "history_aug = model_cnn_aug.fit(\n",
    "    datagen.flow(X_train_reshaped, y_train, batch_size=32),\n",
    "    epochs=15,\n",
    "    validation_data=(X_val_reshaped, y_val)\n",
    ")\n",
    "\n",
    "# 5) Évaluation sur le jeu de test reshaped\n",
    "test_acc = model_cnn_aug.evaluate(X_test_reshaped, y_test_img, verbose=0)[1]\n",
    "print(\"Test accuracy CNN + augmentation :\", test_acc)\n"
   ]
  },
  {
   "cell_type": "markdown",
   "id": "TWLSD9J1aA2k",
   "metadata": {
    "id": "TWLSD9J1aA2k"
   },
   "source": [
    "2.2.5 Transfert d’apprentissage (VGG16)"
   ]
  },
  {
   "cell_type": "code",
   "execution_count": 2,
   "id": "c_0mzwqLiG8j",
   "metadata": {
    "colab": {
     "base_uri": "https://localhost:8080/"
    },
    "id": "c_0mzwqLiG8j",
    "outputId": "8c108cc5-b57e-48be-cdc5-20e3688ef957"
   },
   "outputs": [
    {
     "name": "stdout",
     "output_type": "stream",
     "text": [
      "Downloading data from https://storage.googleapis.com/tensorflow/keras-applications/vgg16/vgg16_weights_tf_dim_ordering_tf_kernels_notop.h5\n",
      "\u001b[1m58889256/58889256\u001b[0m \u001b[32m━━━━━━━━━━━━━━━━━━━━\u001b[0m\u001b[37m\u001b[0m \u001b[1m4s\u001b[0m 0us/step\n",
      "Epoch 1/5\n",
      "\u001b[1m1719/1719\u001b[0m \u001b[32m━━━━━━━━━━━━━━━━━━━━\u001b[0m\u001b[37m\u001b[0m \u001b[1m22s\u001b[0m 10ms/step - accuracy: 0.7557 - loss: 0.7286 - val_accuracy: 0.8464 - val_loss: 0.4158\n",
      "Epoch 2/5\n",
      "\u001b[1m1719/1719\u001b[0m \u001b[32m━━━━━━━━━━━━━━━━━━━━\u001b[0m\u001b[37m\u001b[0m \u001b[1m35s\u001b[0m 8ms/step - accuracy: 0.8423 - loss: 0.4296 - val_accuracy: 0.8572 - val_loss: 0.3868\n",
      "Epoch 3/5\n",
      "\u001b[1m1719/1719\u001b[0m \u001b[32m━━━━━━━━━━━━━━━━━━━━\u001b[0m\u001b[37m\u001b[0m \u001b[1m14s\u001b[0m 8ms/step - accuracy: 0.8581 - loss: 0.3828 - val_accuracy: 0.8608 - val_loss: 0.3814\n",
      "Epoch 4/5\n",
      "\u001b[1m1719/1719\u001b[0m \u001b[32m━━━━━━━━━━━━━━━━━━━━\u001b[0m\u001b[37m\u001b[0m \u001b[1m22s\u001b[0m 9ms/step - accuracy: 0.8694 - loss: 0.3558 - val_accuracy: 0.8706 - val_loss: 0.3601\n",
      "Epoch 5/5\n",
      "\u001b[1m1719/1719\u001b[0m \u001b[32m━━━━━━━━━━━━━━━━━━━━\u001b[0m\u001b[37m\u001b[0m \u001b[1m20s\u001b[0m 9ms/step - accuracy: 0.8724 - loss: 0.3437 - val_accuracy: 0.8620 - val_loss: 0.3703\n",
      "Test accuracy transfert VGG16 : 0.8518000245094299\n"
     ]
    }
   ],
   "source": [
    "# 2.2.5 Transfert d’apprentissage avec VGG16\n",
    "from tensorflow.keras.applications import VGG16\n",
    "from tensorflow import keras\n",
    "import numpy as np\n",
    "\n",
    "# Si X_train n'existe plus (kernel redémarré), on recharge et re‑split Fashion‑MNIST\n",
    "try:\n",
    "    X_train, y_train, X_val, y_val, X_test_img, y_test_img\n",
    "except NameError:\n",
    "    (X_full, y_full), (X_test_img, y_test_img) = keras.datasets.fashion_mnist.load_data()\n",
    "    X_full, X_test_img = X_full / 255.0, X_test_img / 255.0\n",
    "    X_val, X_train = X_full[:5000], X_full[5000:]\n",
    "    y_val, y_train = y_full[:5000], y_full[5000:]\n",
    "\n",
    "# Fonction de conversion en RGB + redimensionnement à 32×32\n",
    "def prep_rgb(X):\n",
    "    # X : (n, 28, 28)\n",
    "    # on ajoute un canal et on duplique : (28,28,1) → (28,28,3)\n",
    "    X_rgb = np.stack([np.tile(img[..., None], (1,1,3)) for img in X], axis=0)\n",
    "    # smart_resize chaque image en (32,32,3)\n",
    "    return np.array([keras.preprocessing.image.smart_resize(img, (32,32))\n",
    "                     for img in X_rgb])\n",
    "\n",
    "# Préparation des jeux\n",
    "X_tr = prep_rgb(X_train)\n",
    "X_vl = prep_rgb(X_val)\n",
    "X_te = prep_rgb(X_test_img)\n",
    "\n",
    "# Chargement du modèle pré‑entraîné\n",
    "base_model = VGG16(\n",
    "    weights='imagenet',\n",
    "    include_top=False,\n",
    "    input_shape=(32,32,3)\n",
    ")\n",
    "base_model.trainable = False  # on gèle les convolutions\n",
    "\n",
    "# Construction du modèle « tête »\n",
    "model_tf = keras.Sequential([\n",
    "    base_model,\n",
    "    keras.layers.Flatten(),\n",
    "    keras.layers.Dense(128, activation='relu'),\n",
    "    keras.layers.Dense(10, activation='softmax')\n",
    "])\n",
    "\n",
    "# Compilation\n",
    "model_tf.compile(\n",
    "    loss='sparse_categorical_crossentropy',\n",
    "    optimizer='adam',\n",
    "    metrics=['accuracy']\n",
    ")\n",
    "\n",
    "# Entraînement\n",
    "history_tf = model_tf.fit(\n",
    "    X_tr, y_train,\n",
    "    epochs=5,\n",
    "    validation_data=(X_vl, y_val)\n",
    ")\n",
    "\n",
    "# Évaluation sur le test\n",
    "test_acc = model_tf.evaluate(X_te, y_test_img, verbose=0)[1]\n",
    "print(\"Test accuracy transfert VGG16 :\", test_acc)\n"
   ]
  },
  {
   "cell_type": "markdown",
   "id": "GuacomqMaLI8",
   "metadata": {
    "id": "GuacomqMaLI8"
   },
   "source": [
    "2.2.6 Étude comparative"
   ]
  },
  {
   "cell_type": "markdown",
   "id": "3c155f11",
   "metadata": {
    "id": "lqKh6xHmaPqv"
   },
   "source": [
    "| Modèle                     | Test acc. | Temps/époque (GPU) | Commentaire                                 |\n",
    "|----------------------------|-----------|--------------------|---------------------------------------------|\n",
    "| PMC Keras (MLP)            | ~88%      | < 10 s             | Sous‑ajusté                                 |\n",
    "| CNN simple                 | ~92%      | ~1 min             | Bon apprentissage, léger sur‑ajustement     |\n",
    "| CNN + Data Augmentation    | ~92%      | ~1 min 30 s        | Meilleure perf.,Généralisation améliorée    |\n",
    "| Transfert (VGG16 pré‑ent.) | ~85%      | ~2–3 min           | Sous-ajusté                                 |\n"
   ]
  },
  {
   "cell_type": "code",
   "execution_count": null,
   "id": "91abda6f",
   "metadata": {},
   "outputs": [],
   "source": []
  },
  {
   "cell_type": "code",
   "execution_count": null,
   "id": "3dbe39b2",
   "metadata": {},
   "outputs": [],
   "source": []
  },
  {
   "cell_type": "code",
   "execution_count": null,
   "id": "dc9787df",
   "metadata": {},
   "outputs": [],
   "source": []
  }
 ],
 "metadata": {
  "accelerator": "GPU",
  "colab": {
   "gpuType": "T4",
   "provenance": []
  },
  "kernelspec": {
   "display_name": "Python 3 (ipykernel)",
   "language": "python",
   "name": "python3"
  },
  "language_info": {
   "codemirror_mode": {
    "name": "ipython",
    "version": 3
   },
   "file_extension": ".py",
   "mimetype": "text/x-python",
   "name": "python",
   "nbconvert_exporter": "python",
   "pygments_lexer": "ipython3",
   "version": "3.11.4"
  }
 },
 "nbformat": 4,
 "nbformat_minor": 5
}
